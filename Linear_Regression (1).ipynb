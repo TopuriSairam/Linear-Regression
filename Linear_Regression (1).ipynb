{
 "cells": [
  {
   "cell_type": "markdown",
   "metadata": {
    "id": "s1aByW200w6R"
   },
   "source": [
    "#  <center><u>LINEAR REGRESSION<u><center>"
   ]
  },
  {
   "cell_type": "markdown",
   "metadata": {
    "id": "n2WGTXS-0w6Z"
   },
   "source": [
    "<p style='text-align: right;'> Total points =51</p>\n"
   ]
  },
  {
   "cell_type": "markdown",
   "metadata": {
    "id": "JOR1QLNy0w6b"
   },
   "source": [
    "###  Linear Regression\n",
    "\n",
    "\n",
    "Linear Regression is a statistical technique which is used to find the linear relationship between dependent and one or more independent variables. This technique is applicable for Supervised learning Regression problems where we try to predict a continuous variable.\n",
    "\n",
    "\n",
    "Linear Regression can be further classified into two types – Simple and Multiple Linear Regression. It is the simplest form of Linear Regression where we fit a straight line to the data.\n",
    "\n"
   ]
  },
  {
   "cell_type": "markdown",
   "metadata": {
    "id": "posmQtq-0w6d"
   },
   "source": [
    "###  Simple Linear Regression (SLR)\n",
    "\n",
    "Simple Linear Regression (or SLR) is the simplest model in machine learning. It models the linear relationship between the independent and dependent variables. \n",
    "\n",
    "This assignment is based on the TV and Sales data .\n",
    "There is one independent or input variable which represents the TV data and is denoted by X. Similarly, there is one dependent or output variable which represents the Sales and is denoted by y. We want to build a linear relationship between these variables. This linear relationship can be modelled by mathematical equation of the form:-\n",
    "\t\t\t\t \n",
    "                 \n",
    "                 Y = β0   + β1*X    -------------   (1)\n",
    "                 \n",
    "\n",
    "In this equation, X and Y are called independent and dependent variables respectively,\n",
    "\n",
    "β1 is the coefficient for independent variable and\n",
    "\n",
    "β0 is the constant term.\n",
    "\n",
    "β0 and β1 are called parameters of the model.\n",
    " \n",
    "\n",
    "\n",
    "For simplicity, we can compare the above equation with the basic line equation of the form:-\n",
    " \n",
    "                   y = ax + b       ----------------- (2)\n",
    "\n",
    "We can see that \n",
    "\n",
    "slope of the line is given by, a =  β1,  and\n",
    "\n",
    "intercept of the line by b =  β0. \n",
    "\n",
    "\n",
    "In this Simple Linear Regression model, we want to fit a line which estimates the linear relationship between X and Y. So, the question of fitting reduces to estimating the parameters of the model β0 and β1. \n",
    "\n",
    " \n",
    "\n",
    "## Ordinary Least Square Method\n",
    "\n",
    "The TV and Sales data are given by X and y respectively. We can draw a scatter plot between X and y which shows the relationship between them.\n",
    "\n",
    " \n",
    "\n",
    "Now, our task is to find a line which best fits this scatter plot. This line will help us to predict the value of any Target variable for any given Feature variable. This line is called **Regression line**. \n",
    "\n",
    "\n",
    "We can define an error function for any line. Then, the regression line is the one which minimizes the error function. Such an error function is also called a **Cost function**. \n",
    "\n"
   ]
  },
  {
   "cell_type": "markdown",
   "metadata": {
    "id": "xkjaWXyE0w6f"
   },
   "source": [
    "Understanding the Data\n",
    "Let's start with the following steps:\n",
    "\n",
    "1. Importing data using the pandas library\n",
    "2. Understanding the structure of the data"
   ]
  },
  {
   "cell_type": "markdown",
   "metadata": {
    "id": "h4Q0Exxa0w6h"
   },
   "source": [
    "<p style='text-align: right;'> 2*2=4 points</p>\n"
   ]
  },
  {
   "cell_type": "code",
   "execution_count": 2,
   "metadata": {
    "id": "cmWywAgK0w6i"
   },
   "outputs": [],
   "source": [
    "# Import necessary libraries\n",
    "\n",
    "import numpy as np\n",
    "import pandas as pd\n",
    "import matplotlib.pyplot as plt\n",
    "import seaborn as sns\n",
    "%matplotlib inline\n",
    "# import %matplotlib inline to visualise in the notebook"
   ]
  },
  {
   "cell_type": "markdown",
   "metadata": {
    "id": "2bRmQwzv0w6m"
   },
   "source": [
    "## About the dataset\n",
    "\n",
    "Let's import data from the following url:-\n",
    "\n",
    "https://www.kaggle.com/ashydv/advertising-dataset\n",
    "\n",
    "\n",
    "\n",
    "\n"
   ]
  },
  {
   "cell_type": "markdown",
   "metadata": {
    "id": "_kCfRI2c0w6n"
   },
   "source": [
    "<p style='text-align: right;'> 2*6 = 12 points</p>\n"
   ]
  },
  {
   "cell_type": "code",
   "execution_count": 3,
   "metadata": {
    "id": "lm5pYg3N0w6p"
   },
   "outputs": [],
   "source": [
    "# Import the data as df\n",
    "df = pd.read_csv(r\"C:\\Users\\saira\\Downloads\\advertising.csv\")\n"
   ]
  },
  {
   "cell_type": "code",
   "execution_count": 4,
   "metadata": {
    "id": "RnftQiHP0w6q"
   },
   "outputs": [],
   "source": [
    "#drop radio and newspaper column from df\n",
    "df1 = df.drop(['Radio','Newspaper'],axis = 1)\n"
   ]
  },
  {
   "cell_type": "markdown",
   "metadata": {
    "id": "uKCM1DSL0w6r"
   },
   "source": [
    "### pandas shape attribute\n",
    "\n",
    "The shape attribute of the pandas dataframe gives the dimensions of the dataframe."
   ]
  },
  {
   "cell_type": "code",
   "execution_count": 5,
   "metadata": {
    "id": "ObibRuJm0w6s",
    "outputId": "dfecfd3e-3b47-4d2e-fea6-c436de9c8762"
   },
   "outputs": [
    {
     "data": {
      "text/plain": [
       "(200, 2)"
      ]
     },
     "execution_count": 5,
     "metadata": {},
     "output_type": "execute_result"
    }
   ],
   "source": [
    "# View the dimensions of df\n",
    "df1.shape\n"
   ]
  },
  {
   "cell_type": "markdown",
   "metadata": {
    "id": "3A2JSfxz0w6u"
   },
   "source": [
    "### pandas head() method\n"
   ]
  },
  {
   "cell_type": "code",
   "execution_count": 6,
   "metadata": {
    "id": "z5tLbWkv0w6u",
    "outputId": "6ac71343-17a0-4ec2-f9be-0922efed5874"
   },
   "outputs": [
    {
     "data": {
      "text/html": [
       "<div>\n",
       "<style scoped>\n",
       "    .dataframe tbody tr th:only-of-type {\n",
       "        vertical-align: middle;\n",
       "    }\n",
       "\n",
       "    .dataframe tbody tr th {\n",
       "        vertical-align: top;\n",
       "    }\n",
       "\n",
       "    .dataframe thead th {\n",
       "        text-align: right;\n",
       "    }\n",
       "</style>\n",
       "<table border=\"1\" class=\"dataframe\">\n",
       "  <thead>\n",
       "    <tr style=\"text-align: right;\">\n",
       "      <th></th>\n",
       "      <th>TV</th>\n",
       "      <th>Sales</th>\n",
       "    </tr>\n",
       "  </thead>\n",
       "  <tbody>\n",
       "    <tr>\n",
       "      <th>0</th>\n",
       "      <td>230.1</td>\n",
       "      <td>22.1</td>\n",
       "    </tr>\n",
       "    <tr>\n",
       "      <th>1</th>\n",
       "      <td>44.5</td>\n",
       "      <td>10.4</td>\n",
       "    </tr>\n",
       "    <tr>\n",
       "      <th>2</th>\n",
       "      <td>17.2</td>\n",
       "      <td>12.0</td>\n",
       "    </tr>\n",
       "    <tr>\n",
       "      <th>3</th>\n",
       "      <td>151.5</td>\n",
       "      <td>16.5</td>\n",
       "    </tr>\n",
       "    <tr>\n",
       "      <th>4</th>\n",
       "      <td>180.8</td>\n",
       "      <td>17.9</td>\n",
       "    </tr>\n",
       "  </tbody>\n",
       "</table>\n",
       "</div>"
      ],
      "text/plain": [
       "      TV  Sales\n",
       "0  230.1   22.1\n",
       "1   44.5   10.4\n",
       "2   17.2   12.0\n",
       "3  151.5   16.5\n",
       "4  180.8   17.9"
      ]
     },
     "execution_count": 6,
     "metadata": {},
     "output_type": "execute_result"
    }
   ],
   "source": [
    "# View the top 5 rows of df\n",
    "df1.head()\n"
   ]
  },
  {
   "cell_type": "markdown",
   "metadata": {
    "id": "gpRypyAQ0w6v"
   },
   "source": [
    "### pandas info() method"
   ]
  },
  {
   "cell_type": "code",
   "execution_count": 7,
   "metadata": {
    "id": "BpgfBwNg0w6w",
    "outputId": "a04c01a3-a405-4d77-a15a-1545322b0af8"
   },
   "outputs": [
    {
     "name": "stdout",
     "output_type": "stream",
     "text": [
      "<class 'pandas.core.frame.DataFrame'>\n",
      "RangeIndex: 200 entries, 0 to 199\n",
      "Data columns (total 2 columns):\n",
      " #   Column  Non-Null Count  Dtype  \n",
      "---  ------  --------------  -----  \n",
      " 0   TV      200 non-null    float64\n",
      " 1   Sales   200 non-null    float64\n",
      "dtypes: float64(2)\n",
      "memory usage: 3.2 KB\n"
     ]
    }
   ],
   "source": [
    "# View dataframe summary\n",
    "df1.info()\n"
   ]
  },
  {
   "cell_type": "markdown",
   "metadata": {
    "id": "Yg6gE8Tz0w6x"
   },
   "source": [
    "### pandas describe() method"
   ]
  },
  {
   "cell_type": "code",
   "execution_count": 8,
   "metadata": {
    "id": "PRi2wqCv0w6x",
    "outputId": "e6e72b59-c098-4406-e89e-8184457cdb65"
   },
   "outputs": [
    {
     "data": {
      "text/html": [
       "<div>\n",
       "<style scoped>\n",
       "    .dataframe tbody tr th:only-of-type {\n",
       "        vertical-align: middle;\n",
       "    }\n",
       "\n",
       "    .dataframe tbody tr th {\n",
       "        vertical-align: top;\n",
       "    }\n",
       "\n",
       "    .dataframe thead th {\n",
       "        text-align: right;\n",
       "    }\n",
       "</style>\n",
       "<table border=\"1\" class=\"dataframe\">\n",
       "  <thead>\n",
       "    <tr style=\"text-align: right;\">\n",
       "      <th></th>\n",
       "      <th>TV</th>\n",
       "      <th>Sales</th>\n",
       "    </tr>\n",
       "  </thead>\n",
       "  <tbody>\n",
       "    <tr>\n",
       "      <th>count</th>\n",
       "      <td>200.000000</td>\n",
       "      <td>200.000000</td>\n",
       "    </tr>\n",
       "    <tr>\n",
       "      <th>mean</th>\n",
       "      <td>147.042500</td>\n",
       "      <td>15.130500</td>\n",
       "    </tr>\n",
       "    <tr>\n",
       "      <th>std</th>\n",
       "      <td>85.854236</td>\n",
       "      <td>5.283892</td>\n",
       "    </tr>\n",
       "    <tr>\n",
       "      <th>min</th>\n",
       "      <td>0.700000</td>\n",
       "      <td>1.600000</td>\n",
       "    </tr>\n",
       "    <tr>\n",
       "      <th>25%</th>\n",
       "      <td>74.375000</td>\n",
       "      <td>11.000000</td>\n",
       "    </tr>\n",
       "    <tr>\n",
       "      <th>50%</th>\n",
       "      <td>149.750000</td>\n",
       "      <td>16.000000</td>\n",
       "    </tr>\n",
       "    <tr>\n",
       "      <th>75%</th>\n",
       "      <td>218.825000</td>\n",
       "      <td>19.050000</td>\n",
       "    </tr>\n",
       "    <tr>\n",
       "      <th>max</th>\n",
       "      <td>296.400000</td>\n",
       "      <td>27.000000</td>\n",
       "    </tr>\n",
       "  </tbody>\n",
       "</table>\n",
       "</div>"
      ],
      "text/plain": [
       "               TV       Sales\n",
       "count  200.000000  200.000000\n",
       "mean   147.042500   15.130500\n",
       "std     85.854236    5.283892\n",
       "min      0.700000    1.600000\n",
       "25%     74.375000   11.000000\n",
       "50%    149.750000   16.000000\n",
       "75%    218.825000   19.050000\n",
       "max    296.400000   27.000000"
      ]
     },
     "execution_count": 8,
     "metadata": {},
     "output_type": "execute_result"
    }
   ],
   "source": [
    "# View descriptive statistics\n",
    "df1.describe()"
   ]
  },
  {
   "cell_type": "markdown",
   "metadata": {
    "id": "7G418lBi0w6y"
   },
   "source": [
    "## Independent and Dependent Variables\n",
    "\n",
    "\n",
    "### Independent variable\n",
    "\n",
    "Independent variable is also called Input variable and is denoted by X. In practical applications, independent variable is also called Feature variable or Predictor variable. We can denote it as:-\n",
    "\n",
    "Independent or Input variable (X) = Feature variable = Predictor variable \n",
    "\n",
    "\n",
    "### Dependent variable\n",
    "\n",
    "Dependent variable is also called Output variable and is denoted by y. \n",
    "\n",
    "Dependent variable is also called Target variable or Response variable. It can be denoted it as follows:-\n",
    "\n",
    "Dependent or Output variable (y) = Target variable = Response variable\n",
    "\n",
    "\n"
   ]
  },
  {
   "cell_type": "markdown",
   "metadata": {
    "id": "nzOL4oU50w6z"
   },
   "source": [
    "<p style='text-align: right;'> 2 points</p>\n"
   ]
  },
  {
   "cell_type": "code",
   "execution_count": 9,
   "metadata": {
    "id": "kIRoDrhX0w6z"
   },
   "outputs": [],
   "source": [
    "# Declare feature variable and target variable\n",
    "# TV and Sales data values are given by X and y respectively.\n",
    "# Values attribute of pandas dataframe returns the numpy arrays.\n",
    "#x = df1['TV']\n",
    "x = df1.drop(['Sales'],axis = 1)\n",
    "y = df1.loc[:,['Sales']]"
   ]
  },
  {
   "cell_type": "code",
   "execution_count": 10,
   "metadata": {},
   "outputs": [
    {
     "data": {
      "text/html": [
       "<div>\n",
       "<style scoped>\n",
       "    .dataframe tbody tr th:only-of-type {\n",
       "        vertical-align: middle;\n",
       "    }\n",
       "\n",
       "    .dataframe tbody tr th {\n",
       "        vertical-align: top;\n",
       "    }\n",
       "\n",
       "    .dataframe thead th {\n",
       "        text-align: right;\n",
       "    }\n",
       "</style>\n",
       "<table border=\"1\" class=\"dataframe\">\n",
       "  <thead>\n",
       "    <tr style=\"text-align: right;\">\n",
       "      <th></th>\n",
       "      <th>TV</th>\n",
       "    </tr>\n",
       "  </thead>\n",
       "  <tbody>\n",
       "    <tr>\n",
       "      <th>0</th>\n",
       "      <td>230.1</td>\n",
       "    </tr>\n",
       "    <tr>\n",
       "      <th>1</th>\n",
       "      <td>44.5</td>\n",
       "    </tr>\n",
       "    <tr>\n",
       "      <th>2</th>\n",
       "      <td>17.2</td>\n",
       "    </tr>\n",
       "    <tr>\n",
       "      <th>3</th>\n",
       "      <td>151.5</td>\n",
       "    </tr>\n",
       "    <tr>\n",
       "      <th>4</th>\n",
       "      <td>180.8</td>\n",
       "    </tr>\n",
       "  </tbody>\n",
       "</table>\n",
       "</div>"
      ],
      "text/plain": [
       "      TV\n",
       "0  230.1\n",
       "1   44.5\n",
       "2   17.2\n",
       "3  151.5\n",
       "4  180.8"
      ]
     },
     "execution_count": 10,
     "metadata": {},
     "output_type": "execute_result"
    }
   ],
   "source": [
    "x.head()"
   ]
  },
  {
   "cell_type": "code",
   "execution_count": 11,
   "metadata": {},
   "outputs": [
    {
     "data": {
      "text/html": [
       "<div>\n",
       "<style scoped>\n",
       "    .dataframe tbody tr th:only-of-type {\n",
       "        vertical-align: middle;\n",
       "    }\n",
       "\n",
       "    .dataframe tbody tr th {\n",
       "        vertical-align: top;\n",
       "    }\n",
       "\n",
       "    .dataframe thead th {\n",
       "        text-align: right;\n",
       "    }\n",
       "</style>\n",
       "<table border=\"1\" class=\"dataframe\">\n",
       "  <thead>\n",
       "    <tr style=\"text-align: right;\">\n",
       "      <th></th>\n",
       "      <th>Sales</th>\n",
       "    </tr>\n",
       "  </thead>\n",
       "  <tbody>\n",
       "    <tr>\n",
       "      <th>0</th>\n",
       "      <td>22.1</td>\n",
       "    </tr>\n",
       "    <tr>\n",
       "      <th>1</th>\n",
       "      <td>10.4</td>\n",
       "    </tr>\n",
       "    <tr>\n",
       "      <th>2</th>\n",
       "      <td>12.0</td>\n",
       "    </tr>\n",
       "    <tr>\n",
       "      <th>3</th>\n",
       "      <td>16.5</td>\n",
       "    </tr>\n",
       "    <tr>\n",
       "      <th>4</th>\n",
       "      <td>17.9</td>\n",
       "    </tr>\n",
       "  </tbody>\n",
       "</table>\n",
       "</div>"
      ],
      "text/plain": [
       "   Sales\n",
       "0   22.1\n",
       "1   10.4\n",
       "2   12.0\n",
       "3   16.5\n",
       "4   17.9"
      ]
     },
     "execution_count": 11,
     "metadata": {},
     "output_type": "execute_result"
    }
   ],
   "source": [
    "y.head()"
   ]
  },
  {
   "cell_type": "markdown",
   "metadata": {
    "id": "3OFVqnw50w60"
   },
   "source": [
    "## Visual exploratory data analysis\n",
    "\n",
    "Visualize the relationship between X and y by plotting a scatterplot between X and y."
   ]
  },
  {
   "cell_type": "markdown",
   "metadata": {
    "id": "9sdsO7Ec0w61"
   },
   "source": [
    "<p style='text-align: right;'> 2 points</p>\n"
   ]
  },
  {
   "cell_type": "code",
   "execution_count": 13,
   "metadata": {
    "id": "hyBZWZ590w61",
    "outputId": "32eac1a7-1463-4438-d163-f0536943c9e2"
   },
   "outputs": [
    {
     "data": {
      "image/png": "[encoded data removed]",
      "text/plain": [
       "<Figure size 432x288 with 1 Axes>"
      ]
     },
     "metadata": {
      "needs_background": "light"
     },
     "output_type": "display_data"
    }
   ],
   "source": [
    "# Plot scatter plot between X and y\n",
    "plt.scatter(x,y,color = 'b',label = 'scatterplot')\n",
    "plt.title('Relationship between TV and Sales')\n",
    "plt.xlabel('TV')\n",
    "plt.ylabel('Sales')\n",
    "plt.legend(loc=4)\n",
    "plt.show()"
   ]
  },
  {
   "cell_type": "markdown",
   "metadata": {
    "id": "FwpDJPUb0w62"
   },
   "source": [
    "Hey buddy! did you notice ? the above graph shows some sort of relationship between sales and TV. Don't you think this shows positive linear relation? i.e when As TV's value increases sales increases ans same is vise-versa."
   ]
  },
  {
   "cell_type": "markdown",
   "metadata": {
    "id": "XtMij8fT0w62"
   },
   "source": [
    "# Visualising Data Using Seaborn\n"
   ]
  },
  {
   "cell_type": "markdown",
   "metadata": {
    "id": "xelLuLmL0w63"
   },
   "source": [
    "<p style='text-align: right;'> 2*2=4 points</p>\n"
   ]
  },
  {
   "cell_type": "code",
   "execution_count": 14,
   "metadata": {
    "id": "kVFCSqbX0w63",
    "outputId": "7b52bd8c-7c8c-4d21-b23e-76bcac01ca2a"
   },
   "outputs": [
    {
     "data": {
      "text/plain": [
       "<seaborn.axisgrid.PairGrid at 0x18f2c8f2b80>"
      ]
     },
     "execution_count": 14,
     "metadata": {},
     "output_type": "execute_result"
    },
    {
     "data": {
      "image/png": "[encoded data removed]",
      "text/plain": [
       "<Figure size 432x288 with 1 Axes>"
      ]
     },
     "metadata": {
      "needs_background": "light"
     },
     "output_type": "display_data"
    },
    {
     "data": {
      "image/png": "[encoded data removed]",
      "text/plain": [
       "<Figure size 360x360 with 6 Axes>"
      ]
     },
     "metadata": {
      "needs_background": "light"
     },
     "output_type": "display_data"
    }
   ],
   "source": [
    "# Visualise the relationship between the features and the response using scatterplots\n",
    "sns.scatterplot(x = 'TV',y = 'Sales', data = df1)\n",
    "plt.title('Relationship between TV and Sales')\n",
    "plt.xlabel('TV')\n",
    "plt.ylabel('Sales')\n",
    "\n",
    "# plot a pairplot also for df\n",
    "sns.pairplot(df1)\n",
    "\n"
   ]
  },
  {
   "cell_type": "markdown",
   "metadata": {
    "id": "JmVFYdgN0w64"
   },
   "source": [
    "Ohoo! We can see very well that you have done good practice of Visualisation in your EDA assignment. Anyways the above graph also shows positive linear relation between both TV and Sales."
   ]
  },
  {
   "cell_type": "markdown",
   "metadata": {
    "id": "m8blklSa0w64"
   },
   "source": [
    "## Checking dimensions of X and y\n",
    "\n",
    "We need to check the dimensions of X and y to make sure they are in right format for Scikit-Learn API. \n"
   ]
  },
  {
   "cell_type": "markdown",
   "metadata": {
    "id": "HSkxTq0_0w64"
   },
   "source": [
    "<p style='text-align: right;'> 2points</p>\n"
   ]
  },
  {
   "cell_type": "code",
   "execution_count": 15,
   "metadata": {
    "id": "oXyXjoU40w65",
    "outputId": "dc98b5fe-9209-44e1-f03a-8fefbdacab98"
   },
   "outputs": [
    {
     "data": {
      "text/plain": [
       "(200, 1)"
      ]
     },
     "execution_count": 15,
     "metadata": {},
     "output_type": "execute_result"
    }
   ],
   "source": [
    "/# Print the dimensions of X and y\n",
    "x.shape\n",
    "y.shape"
   ]
  },
  {
   "cell_type": "markdown",
   "metadata": {
    "id": "kzJHXYXU0w65"
   },
   "source": [
    "## Reshaping X and y\n",
    "\n",
    "Since we are working with only one feature variable, so we need to reshape using Numpy reshape() method.\n",
    "\n",
    "E.g, If you have an array of shape (3,2) then reshaping it with (-1, 1), then the array will get reshaped in such a way that the resulting array has only 1 column and this is only possible by having 6 rows, hence, (6,1)\n",
    "\n",
    "You have seen the above example. Now you smarty! try reshaping on your data."
   ]
  },
  {
   "cell_type": "markdown",
   "metadata": {
    "id": "2n7gzHKw0w65"
   },
   "source": [
    "<p style='text-align: right;'> 2*2 = 4 points</p>\n"
   ]
  },
  {
   "cell_type": "code",
   "execution_count": 19,
   "metadata": {
    "id": "ijkBI1pd0w66",
    "outputId": "4f149889-ec86-4b7a-cd85-98636429e856"
   },
   "outputs": [
    {
     "data": {
      "text/plain": [
       "(200, 1)"
      ]
     },
     "execution_count": 19,
     "metadata": {},
     "output_type": "execute_result"
    }
   ],
   "source": [
    "# Print the dimensions of X and y after reshaping\n",
    "x.shape\n",
    "y.shape\n"
   ]
  },
  {
   "cell_type": "markdown",
   "metadata": {
    "id": "AzYKorxH0w67"
   },
   "source": [
    "Cool right!\n",
    "\n",
    "## Difference in dimensions of X and y after reshaping\n",
    "\n",
    "\n",
    "Hey Intellipants! You can see the difference in diminsions of X and y before and after reshaping.\n",
    "\n",
    "It is essential in this case because getting the feature and target variable right is an important precursor to model building."
   ]
  },
  {
   "cell_type": "markdown",
   "metadata": {
    "id": "eu2rwYp30w67"
   },
   "source": [
    "# Performing Simple Linear Regression"
   ]
  },
  {
   "cell_type": "markdown",
   "metadata": {
    "id": "YcHNU5A70w68"
   },
   "source": [
    "Equation of linear regression<br>\n",
    "$y = c + m_1x_1 + m_2x_2 + ... + m_nx_n$\n",
    "\n",
    "-  $y$ is the response\n",
    "-  $c$ is the intercept\n",
    "-  $m_1$ is the coefficient for the first feature\n",
    "-  $m_n$ is the coefficient for the nth feature<br>\n",
    "\n",
    "In our case:\n",
    "\n",
    "$y = c + m_1 \\times TV$\n",
    "\n",
    "The $m$ values are called the model **coefficients** or **model parameters**.\n"
   ]
  },
  {
   "cell_type": "markdown",
   "metadata": {
    "id": "Vbjau4Jr0w68"
   },
   "source": [
    "## Mechanics of the model\n",
    "\n",
    "Hey! before you read further, it is good to understand the generic structure of modeling using the scikit-learn library. Broadly, the steps to build any model can be divided as follows: \n",
    "\n",
    "Split the dataset into two sets – the training set and the test set. Then, instantiate the regressor lm and fit it on the training set with the fit method. \n",
    "\n",
    "In this step, the model learned the relationships between the training data (X_train, y_train). \n",
    "\n",
    "Oh Yeah! Now the model is ready to make predictions on the test data (X_test). Hence, predict on the test data using the predict method. \n"
   ]
  },
  {
   "cell_type": "markdown",
   "metadata": {
    "id": "Dn0U6gfR0w68"
   },
   "source": [
    "The steps are as follow:"
   ]
  },
  {
   "cell_type": "markdown",
   "metadata": {
    "id": "qdAcHz9h0w69"
   },
   "source": [
    "## Train test split\n",
    "\n",
    "\n",
    "Split the dataset into two sets namely - train set and test set.\n",
    "\n",
    "The model learn the relationships from the training data and predict on test data.\n"
   ]
  },
  {
   "cell_type": "markdown",
   "metadata": {
    "id": "v6TMScHC0w69"
   },
   "source": [
    "Hey Smartypants!! It's absolutely fine if you didn't understand the theory well! We are here to help you make comfortable with all the concepts slowly as we proceeds towards our upcoming assignments.\n",
    "\n",
    "No fear when AI_4_All is here :)\n",
    "\n",
    "<p style='text-align: right;'> 2+2+3=7 points</p>\n"
   ]
  },
  {
   "cell_type": "code",
   "execution_count": 20,
   "metadata": {
    "id": "zrAhs1ZP0w69"
   },
   "outputs": [],
   "source": [
    "# import train_test_split module\n",
    "from sklearn.model_selection import train_test_split\n",
    "\n",
    "\n",
    "# Split X and y into training and test data sets with test_size=0.3 and random_state=42\n",
    "\n",
    "x_train,x_test,y_train,y_test =train_test_split(x,y,test_size = 0.3,random_state = 42)\n"
   ]
  },
  {
   "cell_type": "code",
   "execution_count": 21,
   "metadata": {
    "id": "wY_yTydL0w6-",
    "outputId": "75effc40-3347-43f4-dd09-31353a594c88"
   },
   "outputs": [
    {
     "data": {
      "text/plain": [
       "(140, 1)"
      ]
     },
     "execution_count": 21,
     "metadata": {},
     "output_type": "execute_result"
    }
   ],
   "source": [
    "# print shapes of X_train,y_train, X_test, y_test\n",
    "x_train.shape"
   ]
  },
  {
   "cell_type": "code",
   "execution_count": 22,
   "metadata": {},
   "outputs": [
    {
     "data": {
      "text/plain": [
       "(140, 1)"
      ]
     },
     "execution_count": 22,
     "metadata": {},
     "output_type": "execute_result"
    }
   ],
   "source": [
    "y_train.shape"
   ]
  },
  {
   "cell_type": "code",
   "execution_count": 23,
   "metadata": {},
   "outputs": [
    {
     "data": {
      "text/plain": [
       "(60, 1)"
      ]
     },
     "execution_count": 23,
     "metadata": {},
     "output_type": "execute_result"
    }
   ],
   "source": [
    "x_test.shape"
   ]
  },
  {
   "cell_type": "code",
   "execution_count": 24,
   "metadata": {},
   "outputs": [
    {
     "data": {
      "text/plain": [
       "(60, 1)"
      ]
     },
     "execution_count": 24,
     "metadata": {},
     "output_type": "execute_result"
    }
   ],
   "source": [
    "y_test.shape"
   ]
  },
  {
   "cell_type": "code",
   "execution_count": 25,
   "metadata": {
    "id": "64vAbhuo0w6_"
   },
   "outputs": [
    {
     "data": {
      "text/plain": [
       "array([[16.16109107],\n",
       "       [17.92129084],\n",
       "       [23.26769201],\n",
       "       [ 7.84812269],\n",
       "       [19.28667945],\n",
       "       [11.32465432],\n",
       "       [19.09475735],\n",
       "       [ 9.94829874],\n",
       "       [19.4018327 ],\n",
       "       [16.8081427 ],\n",
       "       [ 8.93385339],\n",
       "       [10.28827502],\n",
       "       [20.0653348 ],\n",
       "       [ 7.50266292],\n",
       "       [14.85602084],\n",
       "       [16.53945177],\n",
       "       [ 7.6068492 ],\n",
       "       [18.04192759],\n",
       "       [11.3356213 ],\n",
       "       [20.22435596],\n",
       "       [19.79116038],\n",
       "       [10.92435967],\n",
       "       [ 9.29028013],\n",
       "       [20.96462689],\n",
       "       [10.99016153],\n",
       "       [10.14022083],\n",
       "       [18.91380224],\n",
       "       [14.84505386],\n",
       "       [11.98815642],\n",
       "       [ 7.66716757],\n",
       "       [18.16256433],\n",
       "       [11.00112851],\n",
       "       [18.11321294],\n",
       "       [ 8.13326408],\n",
       "       [22.59870643],\n",
       "       [20.26822387],\n",
       "       [ 9.85507944],\n",
       "       [22.21486224],\n",
       "       [13.63320293],\n",
       "       [ 8.71451385],\n",
       "       [13.56740107],\n",
       "       [16.91232898],\n",
       "       [ 9.56993804],\n",
       "       [10.62276781],\n",
       "       [19.48956852],\n",
       "       [ 9.30124711],\n",
       "       [11.07789734],\n",
       "       [15.28373293],\n",
       "       [12.94228339],\n",
       "       [11.39045618],\n",
       "       [11.49464246],\n",
       "       [16.44074898],\n",
       "       [ 7.68361804],\n",
       "       [ 7.63426664],\n",
       "       [11.39593967],\n",
       "       [14.30218851],\n",
       "       [11.23143502],\n",
       "       [23.09222038],\n",
       "       [ 8.28131827],\n",
       "       [18.04192759]])"
      ]
     },
     "execution_count": 25,
     "metadata": {},
     "output_type": "execute_result"
    }
   ],
   "source": [
    "# import LinearRegression module\n",
    "\n",
    "from sklearn.linear_model import LinearRegression\n",
    "\n",
    "# Instantiate the linear regression object lm\n",
    "\n",
    "lm = LinearRegression()\n",
    "\n",
    "# Fit and train the model using training data sets\n",
    "\n",
    "lm.fit(x_train,y_train)\n",
    "\n",
    "# Predict on the test data\n",
    "\n",
    "y_pred = lm.predict(x_test)\n",
    "y_pred"
   ]
  },
  {
   "cell_type": "code",
   "execution_count": null,
   "metadata": {},
   "outputs": [],
   "source": []
  },
  {
   "cell_type": "markdown",
   "metadata": {
    "id": "Qk4E0qNe0w6_"
   },
   "source": [
    "## Model slope and intercept term\n",
    "\n",
    "The model slope is given by lm.coef_ and model intercept term is given by lm.intercept_. \n",
    "\n",
    "for example. if the estimated model slope and intercept values are 1.60509347 and  -11.16003616.\n",
    "\n",
    "So, the equation of the fitted regression line will be:-\n",
    "\n",
    "y = 1.60509347 * x - 11.16003616  \n",
    "\n"
   ]
  },
  {
   "cell_type": "markdown",
   "metadata": {
    "id": "Y1dgV7Cj0w6_"
   },
   "source": [
    "<p style='text-align: right;'> 2 points</p>\n"
   ]
  },
  {
   "cell_type": "code",
   "execution_count": 26,
   "metadata": {
    "id": "yIiIxFkM0w7A",
    "outputId": "81a9a538-cdcb-456b-c16d-50c2a93914cd"
   },
   "outputs": [
    {
     "name": "stdout",
     "output_type": "stream",
     "text": [
      "Estimated model slope, a: [[0.05483488]]\n",
      "Estimated model intercept,b: [7.20655455]\n"
     ]
    }
   ],
   "source": [
    "# Compute model slope and intercept\n",
    "a =  lm.coef_\n",
    "\n",
    "b = lm.intercept_\n",
    "\n",
    "print('Estimated model slope, a:',a)\n",
    "\n",
    "print('Estimated model intercept,b:',b)\n",
    "\n"
   ]
  },
  {
   "cell_type": "code",
   "execution_count": 27,
   "metadata": {
    "id": "P-yLbbB90w7B"
   },
   "outputs": [],
   "source": [
    "# So comment below, our fitted regression line here is ?\n",
    "\n",
    "# y = 0.05483488 * x + 7.20655455\n",
    "\n"
   ]
  },
  {
   "cell_type": "markdown",
   "metadata": {
    "id": "yR7zn9ch0w7B"
   },
   "source": [
    "That is our linear model. Wohoo! Awesome job done! \n",
    "\n",
    "## Making predictions\n",
    "\n",
    "\n",
    "To make prediction, on an individual TV value, \n",
    "\n",
    "\n",
    "\t\tlm.predict(Xi)\n",
    "        \n",
    "\n",
    "where Xi is the TV data value of the ith observation.\n",
    "\n"
   ]
  },
  {
   "cell_type": "markdown",
   "metadata": {
    "id": "vNRFt3hj0w7B"
   },
   "source": [
    "<p style='text-align: right;'> 2 points</p>\n"
   ]
  },
  {
   "cell_type": "code",
   "execution_count": 29,
   "metadata": {
    "id": "Jxlt9qZS0w7C",
    "outputId": "2b864458-6372-4368-cd74-2159b733e889"
   },
   "outputs": [
    {
     "data": {
      "text/plain": [
       "array([[19.82406131],\n",
       "       [ 9.64670688],\n",
       "       [ 8.14971455],\n",
       "       [15.51403944],\n",
       "       [17.12070154]])"
      ]
     },
     "execution_count": 29,
     "metadata": {},
     "output_type": "execute_result"
    }
   ],
   "source": [
    "# Predicting Sales values on first five 5 TV  datasets only\n",
    "lm.predict(x)[0:5]"
   ]
  },
  {
   "cell_type": "markdown",
   "metadata": {
    "id": "ve_h8Xkp0w7C"
   },
   "source": [
    "We know that you can also do prediction for all values of TV available in our dataset\n",
    "\n",
    "Can you show it now?\n",
    "\n"
   ]
  },
  {
   "cell_type": "code",
   "execution_count": 30,
   "metadata": {
    "id": "72qNKVrN0w7D",
    "outputId": "e64f72e9-7022-4f44-91f1-6362ee699775"
   },
   "outputs": [
    {
     "data": {
      "text/plain": [
       "array([[19.82406131],\n",
       "       [ 9.64670688],\n",
       "       [ 8.14971455],\n",
       "       [15.51403944],\n",
       "       [17.12070154],\n",
       "       [ 7.68361804],\n",
       "       [10.35956037],\n",
       "       [13.79770758],\n",
       "       [ 7.67813455],\n",
       "       [18.16256433],\n",
       "       [10.83114037],\n",
       "       [18.9796041 ],\n",
       "       [ 8.51162478],\n",
       "       [12.55295572],\n",
       "       [18.39835433],\n",
       "       [17.92129084],\n",
       "       [10.92435967],\n",
       "       [22.63709085],\n",
       "       [11.00112851],\n",
       "       [15.28373293],\n",
       "       [19.18249317],\n",
       "       [20.22435596],\n",
       "       [ 7.93037501],\n",
       "       [19.72535852],\n",
       "       [10.62276781],\n",
       "       [21.6226455 ],\n",
       "       [15.04245944],\n",
       "       [20.37241015],\n",
       "       [20.84947364],\n",
       "       [11.07789734],\n",
       "       [23.26769201],\n",
       "       [13.39741293],\n",
       "       [12.53650525],\n",
       "       [21.77069968],\n",
       "       [12.45425293],\n",
       "       [23.14705527],\n",
       "       [21.84198503],\n",
       "       [11.30272037],\n",
       "       [ 9.56993804],\n",
       "       [19.70890805],\n",
       "       [18.31061852],\n",
       "       [16.91232898],\n",
       "       [23.30607643],\n",
       "       [18.55189201],\n",
       "       [ 8.58291013],\n",
       "       [16.8081427 ],\n",
       "       [12.12524362],\n",
       "       [20.36144317],\n",
       "       [19.66504015],\n",
       "       [10.87500827],\n",
       "       [18.16256433],\n",
       "       [12.71197688],\n",
       "       [19.0728234 ],\n",
       "       [17.21940433],\n",
       "       [21.61167852],\n",
       "       [18.11321294],\n",
       "       [ 7.6068492 ],\n",
       "       [14.67506572],\n",
       "       [18.76574805],\n",
       "       [18.76026456],\n",
       "       [10.14022083],\n",
       "       [21.53490968],\n",
       "       [20.32854224],\n",
       "       [12.83809711],\n",
       "       [14.39540781],\n",
       "       [10.99016153],\n",
       "       [ 8.93385339],\n",
       "       [14.84505386],\n",
       "       [20.22435596],\n",
       "       [19.09475735],\n",
       "       [18.12417991],\n",
       "       [13.22742479],\n",
       "       [ 8.67612943],\n",
       "       [14.30218851],\n",
       "       [18.90831875],\n",
       "       [ 8.13326408],\n",
       "       [ 8.71451385],\n",
       "       [13.81415805],\n",
       "       [ 7.50266292],\n",
       "       [13.56740107],\n",
       "       [11.39593967],\n",
       "       [20.35595968],\n",
       "       [11.3356213 ],\n",
       "       [10.9572606 ],\n",
       "       [18.91380224],\n",
       "       [17.8006541 ],\n",
       "       [11.39045618],\n",
       "       [13.27677618],\n",
       "       [12.04847479],\n",
       "       [13.22742479],\n",
       "       [14.57087944],\n",
       "       [ 8.77483222],\n",
       "       [19.14410875],\n",
       "       [20.96462689],\n",
       "       [13.09582107],\n",
       "       [16.16109107],\n",
       "       [18.04192759],\n",
       "       [17.34552456],\n",
       "       [23.09222038],\n",
       "       [14.62023084],\n",
       "       [19.4018327 ],\n",
       "       [23.45961411],\n",
       "       [22.57128899],\n",
       "       [17.51002921],\n",
       "       [20.26822387],\n",
       "       [14.76828502],\n",
       "       [ 8.57742664],\n",
       "       [12.16362804],\n",
       "       [ 7.92489153],\n",
       "       [21.21138387],\n",
       "       [19.58827131],\n",
       "       [20.46014596],\n",
       "       [16.84104363],\n",
       "       [18.69994619],\n",
       "       [11.49464246],\n",
       "       [11.32465432],\n",
       "       [14.83957037],\n",
       "       [11.39593967],\n",
       "       [14.09929944],\n",
       "       [ 8.27035129],\n",
       "       [14.95472363],\n",
       "       [ 8.23745036],\n",
       "       [19.48956852],\n",
       "       [13.95672874],\n",
       "       [19.79116038],\n",
       "       [11.98815642],\n",
       "       [ 7.63426664],\n",
       "       [11.60431223],\n",
       "       [19.28667945],\n",
       "       [10.47471362],\n",
       "       [ 7.24493897],\n",
       "       [21.74876573],\n",
       "       [ 7.66716757],\n",
       "       [19.25926201],\n",
       "       [ 9.22996176],\n",
       "       [ 9.85507944],\n",
       "       [ 8.61032757],\n",
       "       [22.21486224],\n",
       "       [ 9.56445455],\n",
       "       [17.34552456],\n",
       "       [11.23143502],\n",
       "       [17.82807154],\n",
       "       [19.29764643],\n",
       "       [12.94228339],\n",
       "       [12.48167037],\n",
       "       [14.89988874],\n",
       "       [20.37241015],\n",
       "       [20.54239829],\n",
       "       [ 9.29028013],\n",
       "       [ 9.65767385],\n",
       "       [22.59870643],\n",
       "       [13.84157549],\n",
       "       [18.04192759],\n",
       "       [16.59977014],\n",
       "       [17.50454572],\n",
       "       [ 7.43137757],\n",
       "       [12.35555014],\n",
       "       [15.42082014],\n",
       "       [ 7.84812269],\n",
       "       [14.42830874],\n",
       "       [16.665572  ],\n",
       "       [11.90590409],\n",
       "       [17.53744666],\n",
       "       [16.17205805],\n",
       "       [13.63320293],\n",
       "       [20.0653348 ],\n",
       "       [ 8.18809897],\n",
       "       [18.54640852],\n",
       "       [19.01798852],\n",
       "       [22.79611201],\n",
       "       [ 9.94829874],\n",
       "       [16.22689293],\n",
       "       [ 8.28131827],\n",
       "       [16.44074898],\n",
       "       [19.4018327 ],\n",
       "       [22.39033387],\n",
       "       [20.82753968],\n",
       "       [16.53945177],\n",
       "       [22.37936689],\n",
       "       [16.2872113 ],\n",
       "       [15.79369735],\n",
       "       [19.18797666],\n",
       "       [10.28827502],\n",
       "       [22.97706713],\n",
       "       [21.12364806],\n",
       "       [18.44770573],\n",
       "       [14.85602084],\n",
       "       [17.68550084],\n",
       "       [22.88933131],\n",
       "       [ 8.23196688],\n",
       "       [ 9.37253246],\n",
       "       [11.34658827],\n",
       "       [ 8.14971455],\n",
       "       [16.35301317],\n",
       "       [15.41533665],\n",
       "       [ 9.30124711],\n",
       "       [12.3720006 ],\n",
       "       [16.91232898],\n",
       "       [22.75772759],\n",
       "       [19.93373108]])"
      ]
     },
     "execution_count": 30,
     "metadata": {},
     "output_type": "execute_result"
    }
   ],
   "source": [
    "# prediction for all X present in the dataset\n",
    "lm.predict(x)"
   ]
  },
  {
   "cell_type": "markdown",
   "metadata": {
    "id": "30wlIjQe0w7D"
   },
   "source": [
    "## Regression metrics for model performance\n",
    "\n",
    "\n",
    "Now, it is the time to evaluate model performance. \n",
    "\n",
    "For regression problems, there are two ways to compute the model performance. They are RMSE (Root Mean Square Error) and R-Squared Value. These are explained below:-  \n",
    "\n",
    "\n",
    "### RMSE\n",
    "\n",
    "    RMSE is the standard deviation of the residuals. So, RMSE gives us the standard deviation of the unexplained variance by the model. It can be calculated by taking square root of Mean Squared Error.\n",
    "    RMSE is an absolute measure of fit. It gives us how spread the residuals are, given by the standard deviation of the residuals. The more concentrated the data is around the regression line, the lower the residuals and hence lower the standard deviation of residuals. It results in lower values of RMSE. So, lower values of RMSE indicate better fit of data. \n",
    "\n",
    "\n"
   ]
  },
  {
   "cell_type": "markdown",
   "metadata": {
    "id": "063BZSjx0w7E"
   },
   "source": [
    "### R-Squared\n",
    "\n",
    "    (R2) Correlation explains the strength of the relationship between an independent and dependent variable,whereas R-square explains to what extent the variance of one variable explains the variance of the second variable. Hence It may also be known as the coefficient of determination.\n",
    "    So, if the R2 of a model is 0.50, then approximately half of the observed variation can be explained by the model's inputs.\n",
    "    In general, the higher the R2 Score value, the better the model fits the data. Usually, its value ranges from 0 to 1. So, we want its value to be as close to 1. Its value can become negative if our model is wrong.\n",
    "\n"
   ]
  },
  {
   "cell_type": "markdown",
   "metadata": {
    "id": "qNLjtnKa0w7E"
   },
   "source": [
    "<p style='text-align: right;'> 2*2 = 4 points</p>\n"
   ]
  },
  {
   "cell_type": "code",
   "execution_count": 31,
   "metadata": {
    "id": "wPizGGd40w7F",
    "outputId": "0a898659-7895-4e71-e469-70293e8624fc"
   },
   "outputs": [
    {
     "name": "stdout",
     "output_type": "stream",
     "text": [
      "RMSE Value:2.2759\n"
     ]
    }
   ],
   "source": [
    "# import mean_squared_error module\n",
    "from sklearn.metrics import mean_squared_error\n",
    "\n",
    "# Calculate and print Root Mean Square Error(RMSE)\n",
    "mse = mean_squared_error(y_test,y_pred)\n",
    "\n",
    "rmse = np.sqrt(mse)\n",
    "\n",
    "print('RMSE Value:{:.4f}'.format(rmse))\n"
   ]
  },
  {
   "cell_type": "code",
   "execution_count": 32,
   "metadata": {
    "id": "OkBaULeR0w7G",
    "outputId": "829218ed-55ea-44f3-a04a-5fe13bc24142"
   },
   "outputs": [
    {
     "name": "stdout",
     "output_type": "stream",
     "text": [
      "R2 Score : 0.8149\n"
     ]
    }
   ],
   "source": [
    "# import r2_score module\n",
    "\n",
    "from sklearn.metrics import r2_score\n",
    "\n",
    "# Calculate and print r2_score\n",
    "\n",
    "print('R2 Score : {:.4f}'.format(r2_score(y_test,y_pred)))\n"
   ]
  },
  {
   "cell_type": "markdown",
   "metadata": {
    "id": "ejj56c2l0w7G"
   },
   "source": [
    "## Interpretation and Conclusion\n",
    "\n",
    "\n",
    "The RMSE value has been found to be  2.2759. It means the standard deviation for our prediction is  2.2759. which is quite less. Sometimes we can also expect the RMSE to be less than  2.2759. So, the model is good fit to the data. \n",
    "\n",
    "\n",
    "In business decisions, the benchmark for the R2 score value is 0.7. It means if R2 score value >= 0.7, then the model is good enough to deploy on unseen data whereas if R2 score value < 0.7, then the model is not good enough to deploy. Our R2 score value has been found to be  0.8149. It means that this model explains  81.49 % of the variance in our dependent variable. So, the R2 score value confirms that the model is good enough to deploy because it provides good fit to the data.\n",
    "\n",
    "Wohoo! Really good job done!"
   ]
  },
  {
   "cell_type": "code",
   "execution_count": 33,
   "metadata": {
    "id": "kwl1ogBP0w7H",
    "outputId": "b7d4fa35-6264-41d9-d9ec-449219474b83"
   },
   "outputs": [
    {
     "data": {
      "image/png": "[encoded data removed]",
      "text/plain": [
       "<Figure size 432x288 with 1 Axes>"
      ]
     },
     "metadata": {
      "needs_background": "light"
     },
     "output_type": "display_data"
    }
   ],
   "source": [
    "# Plot the Regression Line between X and Y as shown in below output.\n",
    "plt.scatter(x_test,y_test,color = 'blue',label = 'scatterplot')\n",
    "plt.plot(x_test,y_pred,color = 'black', linewidth = 3, label = 'Regression line')\n",
    "plt.title('Relationship between Sales and Advertising')\n",
    "plt.xlabel('Sales')\n",
    "plt.ylabel('Advertising')\n",
    "plt.legend(loc=4)\n",
    "plt.show()\n"
   ]
  },
  {
   "cell_type": "markdown",
   "metadata": {
    "id": "Ge242Pn40w7H"
   },
   "source": [
    "As you can see above, the regression line fits the data quite well. Wow!"
   ]
  },
  {
   "cell_type": "markdown",
   "metadata": {
    "id": "fhx6QCSt0w7I"
   },
   "source": [
    "## Residual analysis\n",
    "\n",
    " \n",
    "\n",
    "A linear regression model may not represent the data appropriately. The model may be a poor fit to the data. So, we should validate our model by defining and examining residual plots.\n",
    "\n",
    "The difference between the observed value of the dependent variable (y) and the predicted value (ŷi) is called the residual and is denoted by e or error. The scatter-plot of these residuals is called residual plot.\n",
    "\n",
    "If the data points in a residual plot are randomly dispersed around horizontal axis and an approximate zero residual mean, a linear regression model may be appropriate for the data. Otherwise a non-linear model may be more appropriate.\n",
    "\n",
    "If we take a look at the generated ‘Residual errors’ plot, we can clearly see that the train data plot pattern is non-random. Same is the case with the test data plot pattern.\n",
    "So, it suggests a better-fit for a non-linear model. \n",
    "\n"
   ]
  },
  {
   "cell_type": "code",
   "execution_count": 35,
   "metadata": {
    "id": "spZn5khg0w7I",
    "outputId": "0e0184fa-6a23-4c74-946c-bc25cbd617e5"
   },
   "outputs": [
    {
     "data": {
      "image/png": "[encoded data removed]",
      "text/plain": [
       "<Figure size 432x288 with 1 Axes>"
      ]
     },
     "metadata": {
      "needs_background": "light"
     },
     "output_type": "display_data"
    }
   ],
   "source": [
    "# Plotting residual errors\n",
    "plt.scatter(lm.predict(x_train), lm.predict(x_train) - y_train, color = 'Red', label = 'Train data') \n",
    "plt.scatter(lm.predict(x_test), lm.predict(x_test) - y_test, color = 'blue', label = 'Test data')\n",
    "plt.hlines(xmin = 0, xmax =  50, y = 0, linewidth = 3)\n",
    "plt.title('Residual errors')\n",
    "plt.legend(loc = 4)\n",
    "plt.show()"
   ]
  },
  {
   "cell_type": "markdown",
   "metadata": {
    "id": "OQ2eoTvZ0w7J"
   },
   "source": [
    "## Checking for Overfitting and Underfitting\n",
    "\n",
    "\n",
    "We will see training set score and test set score.\n",
    "\n",
    "You can excpect the training set score to be 0.7996, which is averagely good. So, the model learned the relationships quite appropriately from the training data. Thus, the model performs good on the test data as test score will be  0.8149. It is a clear sign of good fit/ balanced fit. Hence, we can validated our finding that the linear regression model provides good fit to the data. \n",
    "\n",
    "\n",
    "**Underfitting**: Your model is underfitting the training data when the model performs poorly on the training data. This is because the model is unable to capture the relationship between the input examples (often called X) and the target values (often called Y). \n",
    "\n",
    "**Overfitting**: Your model is overfitting your training data when you see that the model performs well on the training data but does not perform well on the evaluation data. This is because the model is memorizing the data it has seen and is unable to generalize to unseen examples.\n"
   ]
  },
  {
   "cell_type": "markdown",
   "metadata": {
    "id": "DmnBhNft0w7J"
   },
   "source": [
    "<p style='text-align: right;'> 2 points</p>\n"
   ]
  },
  {
   "cell_type": "code",
   "execution_count": 36,
   "metadata": {
    "id": "h5Xwwzgq0w7J",
    "outputId": "d33982dc-b957-4f40-ac5c-deaaaf7f2b8a"
   },
   "outputs": [
    {
     "name": "stdout",
     "output_type": "stream",
     "text": [
      "Training set score : 0.7996\n",
      "Test set score : 0.8149\n"
     ]
    }
   ],
   "source": [
    "# Checking for Overfitting or Underfitting the data by calculation score using score function.\n",
    "print('Training set score : {:.4f}'.format(lm.score(x_train,y_train)))\n",
    "\n",
    "print('Test set score : {:.4f}'.format(lm.score(x_test,y_test)))"
   ]
  },
  {
   "cell_type": "markdown",
   "metadata": {
    "id": "cDh4j7yd0w7K"
   },
   "source": [
    "As you can see above that you have your simple linear model with train and test score close to each other, i.e your model is not overfitting or underfitting.\n",
    "But before we jump into any conclusion on this, it is always better to do cross validation, which will be introduced to you in your next assignment."
   ]
  },
  {
   "cell_type": "markdown",
   "metadata": {
    "id": "BEJUfkWG0w7P"
   },
   "source": [
    "## Simple Linear Regression - Model Assumptions\n",
    "\n",
    "Reference:- https://www.youtube.com/watch?v=rw84t7QU2O0\n",
    "\n",
    "The Linear Regression Model is based on several assumptions which are listed below:-\n",
    "\n",
    "i.\tLinear relationship\n",
    "ii.\tMultivariate normality\n",
    "iii.\tNo or little multicollinearity\n",
    "iv.\tNo auto-correlation\n",
    "v.\tHomoscedasticity\n",
    "\n",
    "\n",
    "### i.\tLinear relationship\n",
    "\n",
    "\n",
    "The relationship between response and feature variables should be linear. This linear relationship assumption can be tested by plotting a scatter-plot between response and feature variables.\n",
    "\n",
    "\n",
    "### ii.\tMultivariate normality\n",
    "\n",
    "The linear regression model requires all variables to be multivariate normal. A multivariate normal distribution means a vector in multiple normally distributed variables, where any linear combination of the variables is also normally distributed.\n",
    "\n",
    "\n",
    "### iii.\tNo or little multicollinearity\n",
    "\n",
    "It is assumed that there is little or no multicollinearity in the data. Multicollinearity occurs when the features (or independent variables) are highly correlated.\n",
    "\n",
    "\n",
    "### iv.\tNo auto-correlation\n",
    "\n",
    "Also, it is assumed that there is little or no auto-correlation in the data. Autocorrelation occurs when the residual errors are not independent from each other.\n",
    "\n",
    "\n",
    "### v.\tHomoscedasticity\n",
    "\n",
    "Homoscedasticity describes a situation in which the error term (that is, the noise in the model) is the same across all values of the independent variables. It means the residuals are same across the regression line. It can be checked by looking at scatter plot.\n"
   ]
  },
  {
   "cell_type": "markdown",
   "metadata": {
    "id": "clfLYBy10w7Q"
   },
   "source": [
    "#  Congratulations on building your first machine learning model! Smile please! :)\n"
   ]
  }
 ],
 "metadata": {
  "colab": {
   "collapsed_sections": [
    "AzYKorxH0w67",
    "BEJUfkWG0w7P"
   ],
   "name": "Linear_Regression.ipynb",
   "provenance": []
  },
  "kernelspec": {
   "display_name": "Python 3",
   "language": "python",
   "name": "python3"
  },
  "language_info": {
   "codemirror_mode": {
    "name": "ipython",
    "version": 3
   },
   "file_extension": ".py",
   "mimetype": "text/x-python",
   "name": "python",
   "nbconvert_exporter": "python",
   "pygments_lexer": "ipython3",
   "version": "3.8.8"
  }
 },
 "nbformat": 4,
 "nbformat_minor": 1
}
